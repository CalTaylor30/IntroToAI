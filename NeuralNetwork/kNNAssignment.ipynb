{
 "cells": [
  {
   "cell_type": "code",
   "execution_count": 1,
   "id": "ccec83ce",
   "metadata": {},
   "outputs": [],
   "source": [
    "import torch\n",
    "from collections import Counter\n",
    "\n",
    "def loadData(fileName):\n",
    "    data = []\n",
    "    with open(fileName, 'r') as f:\n",
    "        for line in f:\n",
    "            row = list(map(float, line.strip().split(',')))\n",
    "            data.append(row)\n",
    "    return torch.tensor(data, dtype=torch.float32)\n",
    "\n",
    "trainingSet = loadData(\"yeast_train.txt\")\n",
    "testingSet = loadData(\"yeast_test.txt\")"
   ]
  },
  {
   "cell_type": "code",
   "execution_count": 11,
   "id": "e690087a",
   "metadata": {},
   "outputs": [
    {
     "name": "stdout",
     "output_type": "stream",
     "text": [
      "torch.Size([1039, 9])\n",
      "torch.Size([445, 9])\n",
      "tensor([[0.5800, 0.6100, 0.4700, 0.1300, 0.5000, 0.0000, 0.4800, 0.2200, 1.0000],\n",
      "        [0.4300, 0.6700, 0.4800, 0.2700, 0.5000, 0.0000, 0.5300, 0.2200, 1.0000],\n",
      "        [0.6400, 0.6200, 0.4900, 0.1500, 0.5000, 0.0000, 0.5300, 0.2200, 1.0000],\n",
      "        [0.5800, 0.4400, 0.5700, 0.1300, 0.5000, 0.0000, 0.5400, 0.2200, 2.0000],\n",
      "        [0.4200, 0.4400, 0.4800, 0.5400, 0.5000, 0.0000, 0.4800, 0.2200, 1.0000]])\n",
      "tensor([0.4000, 0.4200, 0.5700, 0.3500, 0.5000, 0.0000, 0.5300, 0.2500])\n"
     ]
    }
   ],
   "source": [
    "print(trainingSet.shape)\n",
    "print(testingSet.shape)\n",
    "print(trainingSet[:5])\n",
    "testInstance = testingSet[1, :-1]\n",
    "print(testInstance)"
   ]
  },
  {
   "cell_type": "code",
   "execution_count": 3,
   "id": "9ad2e6ef",
   "metadata": {},
   "outputs": [],
   "source": [
    "def getDistance(x, y):\n",
    "    return torch.sqrt(torch.sum((x - y) ** 2))"
   ]
  },
  {
   "cell_type": "code",
   "execution_count": 4,
   "id": "f6eaa4c6",
   "metadata": {},
   "outputs": [],
   "source": [
    "def getNeighbors(trainingSet, tester, k):\n",
    "    distances = []\n",
    "    for i in range(trainingSet.shape[0]):\n",
    "        dist = getDistance(tester[:-1], trainingSet[i][:-1])\n",
    "        distances.append((dist, trainingSet[i][-1], i))\n",
    "    distances.sort(key=lambda x: (x[0], x[2]))\n",
    "\n",
    "    neighbors = [distances[i][1] for i in range(k)]\n",
    "    return neighbors"
   ]
  },
  {
   "cell_type": "code",
   "execution_count": 5,
   "id": "17932ee0",
   "metadata": {},
   "outputs": [],
   "source": [
    "def guessClass(neighbors, classOrder):\n",
    "    labels = [label for _, label, _ in neighbors]\n",
    "\n",
    "    mostVotes = max(Counter(labels).values())\n",
    "    options = [label for label, total in Counter(labels).items() if total == mostVotes]\n",
    "\n",
    "    for cls in classOrder:\n",
    "        if cls in options:\n",
    "            return cls"
   ]
  },
  {
   "cell_type": "code",
   "execution_count": 6,
   "id": "00844869",
   "metadata": {},
   "outputs": [],
   "source": [
    "def mykNN(trainingSet, testingSet, k):\n",
    "    classOrder = []\n",
    "    for label in trainingSet[:, -1]:\n",
    "        if label not in classOrder:\n",
    "            classOrder.append(label)\n",
    "\n",
    "    predictions = []\n",
    "\n",
    "    for i in range(testingSet.shape[0]):\n",
    "        tester = testingSet[i, :-1]\n",
    "        actual = testingSet[i, -1].item()\n",
    "        neighbors = getNeighbors(trainingSet, tester, k)\n",
    "        guess = guessClass(neighbors, classOrder)\n",
    "        predictions.append((guess, actual))\n",
    "\n",
    "    return predictions"
   ]
  },
  {
   "cell_type": "code",
   "execution_count": 7,
   "id": "38ea73f4",
   "metadata": {},
   "outputs": [],
   "source": [
    "def loocv(trainingSet, k):\n",
    "    errors = []\n",
    "\n",
    "    for i in range(trainingSet.shape[0]):\n",
    "        trainer = torch.cat((trainingSet[:i], trainingSet[i+1:]))\n",
    "        tester = trainingSet[i, :-1]\n",
    "\n",
    "        predicted = mykNN(trainer, tester, k)[0][0]\n",
    "        actual = trainingSet[i, -1].item()\n",
    "\n",
    "        errors.append(abs(predicted - actual))\n",
    "    return sum(errors) / len(errors)"
   ]
  },
  {
   "cell_type": "code",
   "execution_count": 8,
   "id": "239e6cc5",
   "metadata": {},
   "outputs": [],
   "source": [
    "def runkNN(trainingSet, testingSet):\n",
    "    errors = []\n",
    "    for k in range(1,4):\n",
    "        mae = loocv(trainingSet, k)\n",
    "        errors.append((mae, k))\n",
    "        \n",
    "    errors.sort()\n",
    "    bestK = errors[0][1]\n",
    "\n",
    "    print(f\"K chosen to be: {bestK}\")\n",
    "\n",
    "    predictions = mykNN(trainingSet, testingSet, bestK)\n",
    "\n",
    "    correct = 0\n",
    "    totalError = 0\n",
    "    for guess, actual in predictions:\n",
    "        if guess == actual:\n",
    "            correct += 1\n",
    "        totalError += abs(guess - actual)\n",
    "    \n",
    "    print(correct, len(predictions))\n",
    "    print(totalError / len(predictions), len(predictions))"
   ]
  },
  {
   "cell_type": "code",
   "execution_count": 9,
   "id": "290d210a",
   "metadata": {},
   "outputs": [
    {
     "ename": "IndexError",
     "evalue": "too many indices for tensor of dimension 1",
     "output_type": "error",
     "traceback": [
      "\u001b[31m---------------------------------------------------------------------------\u001b[39m",
      "\u001b[31mIndexError\u001b[39m                                Traceback (most recent call last)",
      "\u001b[36mCell\u001b[39m\u001b[36m \u001b[39m\u001b[32mIn[9]\u001b[39m\u001b[32m, line 1\u001b[39m\n\u001b[32m----> \u001b[39m\u001b[32m1\u001b[39m \u001b[43mrunkNN\u001b[49m\u001b[43m(\u001b[49m\u001b[43mtrainingSet\u001b[49m\u001b[43m,\u001b[49m\u001b[43m \u001b[49m\u001b[43mtestingSet\u001b[49m\u001b[43m)\u001b[49m\n",
      "\u001b[36mCell\u001b[39m\u001b[36m \u001b[39m\u001b[32mIn[8]\u001b[39m\u001b[32m, line 4\u001b[39m, in \u001b[36mrunkNN\u001b[39m\u001b[34m(trainingSet, testingSet)\u001b[39m\n\u001b[32m      2\u001b[39m errors = []\n\u001b[32m      3\u001b[39m \u001b[38;5;28;01mfor\u001b[39;00m k \u001b[38;5;129;01min\u001b[39;00m \u001b[38;5;28mrange\u001b[39m(\u001b[32m1\u001b[39m,\u001b[32m4\u001b[39m):\n\u001b[32m----> \u001b[39m\u001b[32m4\u001b[39m     mae = \u001b[43mloocv\u001b[49m\u001b[43m(\u001b[49m\u001b[43mtrainingSet\u001b[49m\u001b[43m,\u001b[49m\u001b[43m \u001b[49m\u001b[43mk\u001b[49m\u001b[43m)\u001b[49m\n\u001b[32m      5\u001b[39m     errors.append((mae, k))\n\u001b[32m      7\u001b[39m errors.sort()\n",
      "\u001b[36mCell\u001b[39m\u001b[36m \u001b[39m\u001b[32mIn[7]\u001b[39m\u001b[32m, line 8\u001b[39m, in \u001b[36mloocv\u001b[39m\u001b[34m(trainingSet, k)\u001b[39m\n\u001b[32m      5\u001b[39m trainer = torch.cat((trainingSet[:i], trainingSet[i+\u001b[32m1\u001b[39m:]))\n\u001b[32m      6\u001b[39m tester = trainingSet[i, :-\u001b[32m1\u001b[39m]\n\u001b[32m----> \u001b[39m\u001b[32m8\u001b[39m predicted = \u001b[43mmykNN\u001b[49m\u001b[43m(\u001b[49m\u001b[43mtrainer\u001b[49m\u001b[43m,\u001b[49m\u001b[43m \u001b[49m\u001b[43mtester\u001b[49m\u001b[43m,\u001b[49m\u001b[43m \u001b[49m\u001b[43mk\u001b[49m\u001b[43m)\u001b[49m[\u001b[32m0\u001b[39m][\u001b[32m0\u001b[39m]\n\u001b[32m      9\u001b[39m actual = trainingSet[i, -\u001b[32m1\u001b[39m].item()\n\u001b[32m     11\u001b[39m errors.append(\u001b[38;5;28mabs\u001b[39m(predicted - actual))\n",
      "\u001b[36mCell\u001b[39m\u001b[36m \u001b[39m\u001b[32mIn[6]\u001b[39m\u001b[32m, line 10\u001b[39m, in \u001b[36mmykNN\u001b[39m\u001b[34m(trainingSet, testingSet, k)\u001b[39m\n\u001b[32m      7\u001b[39m predictions = []\n\u001b[32m      9\u001b[39m \u001b[38;5;28;01mfor\u001b[39;00m i \u001b[38;5;129;01min\u001b[39;00m \u001b[38;5;28mrange\u001b[39m(testingSet.shape[\u001b[32m0\u001b[39m]):\n\u001b[32m---> \u001b[39m\u001b[32m10\u001b[39m     tester = \u001b[43mtestingSet\u001b[49m\u001b[43m[\u001b[49m\u001b[43mi\u001b[49m\u001b[43m,\u001b[49m\u001b[43m \u001b[49m\u001b[43m:\u001b[49m\u001b[43m-\u001b[49m\u001b[32;43m1\u001b[39;49m\u001b[43m]\u001b[49m\n\u001b[32m     11\u001b[39m     actual = testingSet[i, -\u001b[32m1\u001b[39m].item()\n\u001b[32m     12\u001b[39m     neighbors = getNeighbors(trainingSet, tester, k)\n",
      "\u001b[31mIndexError\u001b[39m: too many indices for tensor of dimension 1"
     ]
    }
   ],
   "source": [
    "runkNN(trainingSet, testingSet)"
   ]
  }
 ],
 "metadata": {
  "kernelspec": {
   "display_name": "pytorch_env",
   "language": "python",
   "name": "python3"
  },
  "language_info": {
   "codemirror_mode": {
    "name": "ipython",
    "version": 3
   },
   "file_extension": ".py",
   "mimetype": "text/x-python",
   "name": "python",
   "nbconvert_exporter": "python",
   "pygments_lexer": "ipython3",
   "version": "3.13.7"
  }
 },
 "nbformat": 4,
 "nbformat_minor": 5
}
