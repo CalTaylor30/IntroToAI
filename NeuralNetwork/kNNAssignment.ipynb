{
 "cells": [
  {
   "cell_type": "code",
   "execution_count": null,
   "id": "9ad2e6ef",
   "metadata": {},
   "outputs": [],
   "source": [
    "def getDistance(x, y):\n",
    "    pass"
   ]
  },
  {
   "cell_type": "code",
   "execution_count": null,
   "id": "f6eaa4c6",
   "metadata": {},
   "outputs": [],
   "source": [
    "def getNeighbors(trainData, testInst, k):\n",
    "    pass"
   ]
  },
  {
   "cell_type": "code",
   "execution_count": null,
   "id": "17932ee0",
   "metadata": {},
   "outputs": [],
   "source": [
    "def guessClass(neighbors):\n",
    "    pass"
   ]
  },
  {
   "cell_type": "code",
   "execution_count": null,
   "id": "00844869",
   "metadata": {},
   "outputs": [],
   "source": [
    "def mykNN(trainData, testData, k):\n",
    "    pass"
   ]
  }
 ],
 "metadata": {
  "language_info": {
   "name": "python"
  }
 },
 "nbformat": 4,
 "nbformat_minor": 5
}
