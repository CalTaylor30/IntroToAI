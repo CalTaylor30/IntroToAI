{
 "cells": [
  {
   "cell_type": "code",
   "execution_count": 17,
   "id": "ccec83ce",
   "metadata": {},
   "outputs": [],
   "source": [
    "import torch\n",
    "import matplotlib.pyplot as plt\n",
    "from collections import Counter\n",
    "import numpy as np\n",
    "\n",
    "def loadData(fileName):\n",
    "    data = []\n",
    "    with open(fileName, 'r') as f:\n",
    "        for line in f:\n",
    "            row = list(map(float, line.strip().split(',')))\n",
    "            data.append(row)\n",
    "    return torch.tensor(data, dtype=torch.float32)\n",
    "\n",
    "trainingSet = loadData(\"yeast_train.txt\")\n",
    "testingSet = loadData(\"yeast_test.txt\")"
   ]
  },
  {
   "cell_type": "code",
   "execution_count": 18,
   "id": "9ad2e6ef",
   "metadata": {},
   "outputs": [],
   "source": [
    "def getDistance(x, y):\n",
    "    return torch.sqrt(torch.sum((x - y) ** 2))"
   ]
  },
  {
   "cell_type": "code",
   "execution_count": 19,
   "id": "f6eaa4c6",
   "metadata": {},
   "outputs": [],
   "source": [
    "def getNeighbors(trainingSet, tester, k):\n",
    "    distances = []\n",
    "    for i in range(trainingSet.shape[0]):\n",
    "        dist = getDistance(tester, trainingSet[i][:-1])\n",
    "        distances.append((dist, trainingSet[i][-1], i))\n",
    "    distances.sort(key=lambda x: (x[0], x[2]))\n",
    "\n",
    "    neighbors = [distances[i][1].item() for i in range(k)]\n",
    "    return neighbors"
   ]
  },
  {
   "cell_type": "code",
   "execution_count": 20,
   "id": "17932ee0",
   "metadata": {},
   "outputs": [],
   "source": [
    "def guessClass(neighbors, classOrder):\n",
    "    \n",
    "    if(len(neighbors) > 1):\n",
    "        \n",
    "        labels = [label for label in neighbors]\n",
    "\n",
    "        mostVotes = max(Counter(labels).values())\n",
    "        options = [label for label, total in Counter(labels).items() if total == mostVotes]\n",
    "\n",
    "        for cls in classOrder:\n",
    "            if cls in options:\n",
    "                return cls\n",
    "    else:\n",
    "        return neighbors[0]"
   ]
  },
  {
   "cell_type": "code",
   "execution_count": 21,
   "id": "00844869",
   "metadata": {},
   "outputs": [],
   "source": [
    "def mykNN(trainingSet, testingSet, k):\n",
    "    classOrder = []\n",
    "    for label in trainingSet[:, -1]:\n",
    "        if label not in classOrder:\n",
    "            classOrder.append(label)\n",
    "\n",
    "    predictions = []\n",
    "\n",
    "    for i in range(testingSet.shape[0]):\n",
    "        tester = testingSet[i, :-1]\n",
    "        actual = testingSet[i, -1].item()\n",
    "        neighbors = getNeighbors(trainingSet, tester[0], k)\n",
    "        guess = guessClass(neighbors, classOrder)\n",
    "        predictions.append((guess, actual))\n",
    "\n",
    "    return predictions"
   ]
  },
  {
   "cell_type": "code",
   "execution_count": 22,
   "id": "38ea73f4",
   "metadata": {},
   "outputs": [],
   "source": [
    "def loocv(trainingSet, k):\n",
    "    errors = []\n",
    "\n",
    "    for i in range(trainingSet.shape[0]):\n",
    "        trainer = torch.cat((trainingSet[:i], trainingSet[i+1:]))\n",
    "        tester = trainingSet[i, :-1]\n",
    "\n",
    "        predicted = mykNN(trainer, tester.unsqueeze(0), k)[0][0]\n",
    "        actual = trainingSet[i, -1].item()\n",
    "\n",
    "        errors.append(abs(predicted - actual))\n",
    "    return sum(errors) / len(errors)"
   ]
  },
  {
   "cell_type": "code",
   "execution_count": 23,
   "id": "239e6cc5",
   "metadata": {},
   "outputs": [],
   "source": [
    "def runkNN(trainingSet, testingSet):\n",
    "    \n",
    "    errors = []\n",
    "    \n",
    "    for k in range(1,4):\n",
    "        mae = loocv(trainingSet, k+1)\n",
    "        errors.append((mae, k+1))\n",
    "        \n",
    "    errors.sort()\n",
    "    bestK = errors[0][1]\n",
    "\n",
    "    print(f\"K chosen to be: {bestK}\")\n",
    "\n",
    "    predictions = mykNN(trainingSet, testingSet, bestK)\n",
    "\n",
    "    correct = 0\n",
    "    totalError = 0\n",
    "    for guess, actual in predictions:\n",
    "        if guess == actual:\n",
    "            correct += 1\n",
    "        totalError += abs(guess - actual)\n",
    "    \n",
    "    print(f\"Predicted Class Label: {guess}, Actual Class Label: {actual}\")\n",
    "    print(f\"Correctly Classified Instances: {correct}, Total Instances Predicted: {len(predictions)}\")\n",
    "    print(f\"Mean Absolute Error: {totalError / len(predictions)}, Total Instances Predicted: {len(predictions)}\")"
   ]
  },
  {
   "cell_type": "code",
   "execution_count": null,
   "id": "290d210a",
   "metadata": {},
   "outputs": [],
   "source": [
    "runkNN(trainingSet, testingSet)"
   ]
  },
  {
   "cell_type": "code",
   "execution_count": 31,
   "id": "741fdecc",
   "metadata": {},
   "outputs": [],
   "source": [
    "def confMatrix(predictions):\n",
    "    matrix = np.zeros((11,11), dtype=int)\n",
    "\n",
    "    for guess, actual in predictions:\n",
    "        matrix[int(actual)-1][int(guess)-1] += 1\n",
    "    return matrix"
   ]
  },
  {
   "cell_type": "code",
   "execution_count": 33,
   "id": "7f7d590d",
   "metadata": {},
   "outputs": [],
   "source": [
    "def plotkNN(trainingSet, testingSet):\n",
    "    accuracies = []\n",
    "\n",
    "    kVals = [1,5,10,20,30]\n",
    "    for k in kVals:\n",
    "        predictions = mykNN(trainingSet, testingSet, k)\n",
    "        if k == 1 or k == 30:\n",
    "            matrix = confMatrix(predictions)\n",
    "            print(f\"Confusion Matrix for k={k}:\\n{matrix}\\n\")\n",
    "        correct = sum(1 for guess, actual in predictions if guess == actual)\n",
    "        acc = correct / len(predictions)\n",
    "        accuracies.append(acc)\n",
    "    \n",
    "    plt.plot(kVals, accuracies, marker=\"o\")\n",
    "    plt.xlabel(\"k\")\n",
    "    plt.ylabel(\"Test Accuracy\")\n",
    "    plt.title(\"Accuracy vs k on Yeast Dataset\")\n",
    "    plt.show()"
   ]
  },
  {
   "cell_type": "code",
   "execution_count": 34,
   "id": "a1703411",
   "metadata": {},
   "outputs": [
    {
     "name": "stdout",
     "output_type": "stream",
     "text": [
      "Confusion Matrix for k=1:\n",
      "[[41  2  0  0  1  0  0  0 37  0  0]\n",
      " [36  4  0  0 21  0  0  0 62  0  0]\n",
      " [51  9  0  0 16  0  0  0 62  0  0]\n",
      " [14  0  0  0  0  0  0  0  0  0  0]\n",
      " [15  0  0  0  1  0  0  0  2  0  0]\n",
      " [ 9  5  0  0  3  0  0  0 30  0  0]\n",
      " [10  0  0  0  0  0  0  0  0  0  0]\n",
      " [ 3  0  0  0  0  0  0  0  5  0  0]\n",
      " [ 0  0  0  0  0  0  0  0  0  0  0]\n",
      " [ 0  0  0  0  0  0  0  0  0  0  0]\n",
      " [ 3  0  0  0  0  0  0  0  3  0  0]]\n",
      "\n",
      "Confusion Matrix for k=30:\n",
      "[[28 52  0  0  1  0  0  0  0  0  0]\n",
      " [26 83  0  0 14  0  0  0  0  0  0]\n",
      " [32 95  0  0 11  0  0  0  0  0  0]\n",
      " [14  0  0  0  0  0  0  0  0  0  0]\n",
      " [14  4  0  0  0  0  0  0  0  0  0]\n",
      " [ 4 40  0  0  3  0  0  0  0  0  0]\n",
      " [ 9  1  0  0  0  0  0  0  0  0  0]\n",
      " [ 2  6  0  0  0  0  0  0  0  0  0]\n",
      " [ 0  0  0  0  0  0  0  0  0  0  0]\n",
      " [ 0  0  0  0  0  0  0  0  0  0  0]\n",
      " [ 3  3  0  0  0  0  0  0  0  0  0]]\n",
      "\n"
     ]
    },
    {
     "data": {
      "image/png": "[encoded data removed]",
      "text/plain": [
       "<Figure size 640x480 with 1 Axes>"
      ]
     },
     "metadata": {},
     "output_type": "display_data"
    }
   ],
   "source": [
    "plotkNN(trainingSet, testingSet)"
   ]
  }
 ],
 "metadata": {
  "kernelspec": {
   "display_name": "pytorch_env",
   "language": "python",
   "name": "python3"
  },
  "language_info": {
   "codemirror_mode": {
    "name": "ipython",
    "version": 3
   },
   "file_extension": ".py",
   "mimetype": "text/x-python",
   "name": "python",
   "nbconvert_exporter": "python",
   "pygments_lexer": "ipython3",
   "version": "3.13.7"
  }
 },
 "nbformat": 4,
 "nbformat_minor": 5
}
