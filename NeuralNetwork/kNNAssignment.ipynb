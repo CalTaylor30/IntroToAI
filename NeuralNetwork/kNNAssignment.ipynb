{
 "cells": [
  {
   "cell_type": "code",
   "execution_count": null,
   "id": "ccec83ce",
   "metadata": {},
   "outputs": [],
   "source": [
    "import torch\n",
    "from collections import Counter\n",
    "\n",
    "trainingSet = torch.tensor(\n",
    "    [list(map(float, line.strip().split(',')))\n",
    "     for line in open(\"yeast_train.txt\")],\n",
    "    dtype=torch.float32)\n",
    "\n",
    "testSet = torch.tensor(\n",
    "    [list(map(float, line.strip().split(',')))\n",
    "     for line in open(\"yeast_test.txt\")],\n",
    "    dtype=torch.float32)"
   ]
  },
  {
   "cell_type": "code",
   "execution_count": 8,
   "id": "9ad2e6ef",
   "metadata": {},
   "outputs": [],
   "source": [
    "def getDistance(x, y):\n",
    "    return torch.sqrt(torch.sum((x - y) ** 2))"
   ]
  },
  {
   "cell_type": "code",
   "execution_count": null,
   "id": "f6eaa4c6",
   "metadata": {},
   "outputs": [],
   "source": [
    "def getNeighbors(trainingSet, tester, k):\n",
    "    distances = []\n",
    "    for i in range(trainingSet.shape[0]):\n",
    "        dist = getDistance(tester[:-1], trainingSet[i][:-1])\n",
    "        distances.append((dist, trainingSet[i][-1], i))\n",
    "    distances.sort(key=lambda x: (x[0], x[2]))\n",
    "\n",
    "    neighbors = [distances[i][1] for i in range(k)]\n",
    "    return neighbors"
   ]
  },
  {
   "cell_type": "code",
   "execution_count": null,
   "id": "17932ee0",
   "metadata": {},
   "outputs": [],
   "source": [
    "def guessClass(neighbors, classOrder):\n",
    "    labels = [label for _, label, _ in neighbors]\n",
    "\n",
    "    mostVotes = max(Counter(labels).values())\n",
    "    options = [label for label, total in Counter(labels).items() if total == mostVotes]\n",
    "\n",
    "    for cls in classOrder:\n",
    "        if cls in options:\n",
    "            return cls"
   ]
  },
  {
   "cell_type": "code",
   "execution_count": null,
   "id": "00844869",
   "metadata": {},
   "outputs": [],
   "source": [
    "def mykNN(trainingSet, testingSet, k):\n",
    "    classOrder = []\n",
    "    for label in trainingSet[:, -1].toList():\n",
    "        if label not in classOrder:\n",
    "            classOrder.append(label)\n",
    "\n",
    "    predictions = []\n",
    "\n",
    "    for i in range(testingSet.shape[0]):\n",
    "        tester = testingSet[i, :-1]\n",
    "        actual = testingSet[i, -1].item()\n",
    "        neighbors = getNeighbors(trainingSet, tester, k)\n",
    "        guess = guessClass(neighbors, classOrder)\n",
    "        predictions.append((guess, actual))\n",
    "\n",
    "    return predictions"
   ]
  },
  {
   "cell_type": "code",
   "execution_count": null,
   "id": "38ea73f4",
   "metadata": {},
   "outputs": [],
   "source": [
    "def loocv(trainingSet, k):\n",
    "    errors = []\n",
    "\n",
    "    for i in range(trainingSet.shape[0]):\n",
    "        trainer = torch.cat((trainingSet[:i], trainingSet[i+1:]))\n",
    "        tester = trainingSet[i, :-1]\n",
    "\n",
    "        predicted = mykNN(trainer, tester, k)[0][0]\n",
    "        actual = trainingSet[i, -1].item()\n",
    "\n",
    "        errors.append(abs(predicted - actual))\n",
    "    return sum(errors) / len(errors)"
   ]
  },
  {
   "cell_type": "code",
   "execution_count": null,
   "id": "239e6cc5",
   "metadata": {},
   "outputs": [],
   "source": [
    "def runkNN(trainingSet, testingSet):\n",
    "    errors = []\n",
    "    for k in range(1,4):\n",
    "        mae = loocv(trainingSet, k)\n",
    "        errors.append((mae, k))\n",
    "        \n",
    "    errors.sort()\n",
    "    bestK = errors[0][1]\n",
    "\n",
    "    print(f\"K chosen to be: {bestK}\")\n",
    "\n",
    "    predictions = mykNN(trainingSet, testingSet, bestK)\n",
    "\n",
    "    correct = 0\n",
    "    totalError = 0\n",
    "    for guess, actual in predictions:\n",
    "        if guess == actual:\n",
    "            correct += 1\n",
    "        totalError += abs(guess - actual)\n",
    "    \n",
    "    print(correct, len(predictions))\n",
    "    print(totalError / len(predictions), len(predictions))"
   ]
  }
 ],
 "metadata": {
  "kernelspec": {
   "display_name": "pytorch_env",
   "language": "python",
   "name": "python3"
  },
  "language_info": {
   "codemirror_mode": {
    "name": "ipython",
    "version": 3
   },
   "file_extension": ".py",
   "mimetype": "text/x-python",
   "name": "python",
   "nbconvert_exporter": "python",
   "pygments_lexer": "ipython3",
   "version": "3.13.7"
  }
 },
 "nbformat": 4,
 "nbformat_minor": 5
}
