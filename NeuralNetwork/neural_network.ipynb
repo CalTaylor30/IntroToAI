{
 "cells": [
  {
   "cell_type": "code",
   "execution_count": null,
   "id": "30b18bc7",
   "metadata": {},
   "outputs": [],
   "source": [
    "import torch\n",
    "import torch.nn as nn\n",
    "import torch.optim as optim\n",
    "import torch.nn.functional as F\n",
    "import matplotlib.pyplot as plt\n",
    "import pandas as pd"
   ]
  },
  {
   "cell_type": "code",
   "execution_count": null,
   "id": "4f4f14ac",
   "metadata": {},
   "outputs": [],
   "source": [
    "def loadData(fileName):\n",
    "    data = []\n",
    "    with open(fileName, 'r') as f:\n",
    "        for line in f:\n",
    "            row = list(map(float, line.strip().split(',')))\n",
    "            data.append(row)\n",
    "    return torch.tensor(data, dtype=torch.float32)\n",
    "\n",
    "trainingSet = loadData(\"yeast_train.txt\")\n",
    "testingSet = loadData(\"yeast_test.txt\")"
   ]
  },
  {
   "cell_type": "code",
   "execution_count": null,
   "id": "0dc84c63",
   "metadata": {},
   "outputs": [],
   "source": [
    "class neuralNet(nn.Module):\n",
    "    def __init__(self, input_size, hidden1_size, hidden2_size, output_size):\n",
    "        super(neuralNet, self).__init__()\n",
    "        self.fc1 = nn.Linear(input_size, hidden1_size)\n",
    "        self.fc2 = nn.Linear(hidden1_size, hidden2_size)\n",
    "        self.fc3 = nn.Linear(hidden2_size, output_size)\n",
    "\n",
    "    def forward(self, x):\n",
    "        x = torch.sigmoid(self.fc1(x))\n",
    "        x = torch.sigmoid(self.fc2(x))\n",
    "        x = F.log_softmax(self.fc3(x), dim = 1)\n",
    "        return x"
   ]
  },
  {
   "cell_type": "code",
   "execution_count": null,
   "id": "720bea57",
   "metadata": {},
   "outputs": [],
   "source": [
    "def trainModel(model, trainingSet, learning_rate, epochs = 100):\n",
    "    optimizer = optim.SGD(model.parameters(), lr=learning_rate)\n",
    "    criteria = nn.NLLLoss()\n",
    "\n",
    "    for epochs in range(epochs):\n",
    "        optimizer.zero_grad()\n",
    "        outputs = model(trainingSet[:, :-1])\n",
    "        loss = criteria(outputs, trainingSet[:, -1].long())\n",
    "        loss.backward()\n",
    "        optimizer.step()\n",
    "\n",
    "def testModel(model, testingSet):\n",
    "    with torch.no_grad():\n",
    "        outputs = model(testingSet[:, :-1])\n",
    "        predicted = torch.argmax(outputs, dim = 1)\n",
    "        correct = (predicted == testingSet[:, -1].long()).sum().item()\n",
    "        accuracy = 100 * correct / len(testingSet[:, -1])\n",
    "    return accuracy"
   ]
  },
  {
   "cell_type": "code",
   "execution_count": null,
   "id": "1d55e2ec",
   "metadata": {},
   "outputs": [],
   "source": [
    "input_size = trainingSet.shape[1] - 1\n",
    "hidden1_size = 10\n",
    "hidden2_size = 6\n",
    "output_size = len(torch.unique(trainingSet[:, -1]))\n",
    "\n",
    "learning_rate = [0.001, 0.01, 0.1]\n",
    "accuracies = []\n",
    "\n",
    "for lr in learning_rate:\n",
    "    model = neuralNet(input_size, hidden1_size, hidden2_size, output_size)\n",
    "    trainModel(model, trainingSet, lr)\n",
    "    accuracy = testModel(model, testingSet)\n",
    "    accuracies.append(accuracy)\n",
    "\n",
    "plt.plot(learning_rate, accuracies, marker='o')\n",
    "plt.title('Effect of Learning Rate on Accuracy')\n",
    "plt.xlabel('Learning Rate')\n",
    "plt.ylabel('Accuracy (%)')\n",
    "plt.xscale('log')\n",
    "plt.show()"
   ]
  },
  {
   "cell_type": "code",
   "execution_count": null,
   "id": "fe2313b2",
   "metadata": {},
   "outputs": [],
   "source": [
    "hidden1_values = [5, 10, 20]\n",
    "hidden2 = 6\n",
    "learning_rate = 0.01\n",
    "accuracies = []\n",
    "\n",
    "for h1 in hidden1_values:\n",
    "    model = neuralNet(input_size, h1, hidden2, output_size)\n",
    "    trainModel(model, trainingSet, learning_rate)\n",
    "    accuracy = testModel(model, testingSet)\n",
    "    accuracies.append(accuracy)\n",
    "\n",
    "plt.plot(hidden1_values, accuracies, marker='o')\n",
    "plt.title('Effect of Hidden Layer 1 Size on Accuracy')\n",
    "plt.xlabel('Hidden Layer 1 Size')\n",
    "plt.ylabel('Accuracy (%)')\n",
    "plt.show()"
   ]
  },
  {
   "cell_type": "code",
   "execution_count": null,
   "id": "ccb8feae",
   "metadata": {},
   "outputs": [],
   "source": [
    "hidden2_values = [3, 6, 12]\n",
    "hidden1 = 10\n",
    "learning_rate = 0.01\n",
    "accuracies = []\n",
    "\n",
    "for h2 in hidden2_values:\n",
    "    model = neuralNet(input_size, hidden1, h2, output_size)\n",
    "    trainModel(model, trainingSet, learning_rate)\n",
    "    accuracy = testModel(model, testingSet)\n",
    "    accuracies.append(accuracy)\n",
    "\n",
    "plt.plot(hidden2_values, accuracies, marker='o')\n",
    "plt.title('Effect of Hidden Layer 2 Size on Accuracy')\n",
    "plt.xlabel('Hidden Layer 2 Size')\n",
    "plt.ylabel('Accuracy (%)')\n",
    "plt.show()"
   ]
  }
 ],
 "metadata": {
  "kernelspec": {
   "display_name": "pytorch_env",
   "language": "python",
   "name": "python3"
  },
  "language_info": {
   "codemirror_mode": {
    "name": "ipython",
    "version": 3
   },
   "file_extension": ".py",
   "mimetype": "text/x-python",
   "name": "python",
   "nbconvert_exporter": "python",
   "pygments_lexer": "ipython3",
   "version": "3.13.7"
  }
 },
 "nbformat": 4,
 "nbformat_minor": 5
}
