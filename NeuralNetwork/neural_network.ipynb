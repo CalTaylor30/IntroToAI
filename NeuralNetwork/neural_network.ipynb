{
 "cells": [
  {
   "cell_type": "code",
   "execution_count": 13,
   "id": "30b18bc7",
   "metadata": {},
   "outputs": [],
   "source": [
    "import torch\n",
    "import torch.nn as nn\n",
    "import torch.optim as optim\n",
    "import torch.nn.functional as F\n",
    "import matplotlib.pyplot as plt\n",
    "import pandas as pd"
   ]
  },
  {
   "cell_type": "code",
   "execution_count": 14,
   "id": "4f4f14ac",
   "metadata": {},
   "outputs": [],
   "source": [
    "def loadData(fileName):\n",
    "    data = []\n",
    "    with open(fileName, 'r') as f:\n",
    "        for line in f:\n",
    "            row = list(map(float, line.strip().split(',')))\n",
    "            data.append(row)\n",
    "    return torch.tensor(data, dtype=torch.float32)\n",
    "\n",
    "trainingSet = loadData(\"yeast_train.txt\")\n",
    "testingSet = loadData(\"yeast_test.txt\")"
   ]
  },
  {
   "cell_type": "code",
   "execution_count": 15,
   "id": "0dc84c63",
   "metadata": {},
   "outputs": [],
   "source": [
    "class neuralNet(nn.Module):\n",
    "    def __init__(self, input_size, hidden1_size, hidden2_size, output_size):\n",
    "        super(neuralNet, self).__init__()\n",
    "        self.fc1 = nn.Linear(input_size, hidden1_size)\n",
    "        self.fc2 = nn.Linear(hidden1_size, hidden2_size)\n",
    "        self.fc3 = nn.Linear(hidden2_size, output_size)\n",
    "\n",
    "    def forward(self, x):\n",
    "        x = torch.sigmoid(self.fc1(x))\n",
    "        x = torch.sigmoid(self.fc2(x))\n",
    "        x = F.log_softmax(self.fc3(x), dim = 1)\n",
    "        return x"
   ]
  },
  {
   "cell_type": "code",
   "execution_count": 16,
   "id": "720bea57",
   "metadata": {},
   "outputs": [],
   "source": [
    "def trainModel(model, trainingSet, learning_rate, epochs = 100):\n",
    "    optimizer = optim.SGD(model.parameters(), lr=learning_rate)\n",
    "    criteria = nn.NLLLoss()\n",
    "\n",
    "    for epochs in range(epochs):\n",
    "        optimizer.zero_grad()\n",
    "        outputs = model(trainingSet[:, :-1])\n",
    "        loss = criteria(outputs, trainingSet[:, -1].long())\n",
    "        loss.backward()\n",
    "        optimizer.step()\n",
    "\n",
    "def testModel(model, testingSet):\n",
    "    with torch.no_grad():\n",
    "        outputs = model(testingSet[:, :-1])\n",
    "        predicted = torch.argmax(outputs, dim = 1)\n",
    "        correct = (predicted == testingSet[:, -1].long()).sum().item()\n",
    "        accuracy = 100 * correct / len(testingSet[:, -1])\n",
    "    return accuracy"
   ]
  },
  {
   "cell_type": "code",
   "execution_count": 17,
   "id": "1d55e2ec",
   "metadata": {},
   "outputs": [
    {
     "ename": "IndexError",
     "evalue": "Target 10 is out of bounds.",
     "output_type": "error",
     "traceback": [
      "\u001b[31m---------------------------------------------------------------------------\u001b[39m",
      "\u001b[31mIndexError\u001b[39m                                Traceback (most recent call last)",
      "\u001b[36mCell\u001b[39m\u001b[36m \u001b[39m\u001b[32mIn[17]\u001b[39m\u001b[32m, line 11\u001b[39m\n\u001b[32m      9\u001b[39m \u001b[38;5;28;01mfor\u001b[39;00m lr \u001b[38;5;129;01min\u001b[39;00m learning_rate:\n\u001b[32m     10\u001b[39m     model = neuralNet(input_size, hidden1_size, hidden2_size, output_size)\n\u001b[32m---> \u001b[39m\u001b[32m11\u001b[39m     \u001b[43mtrainModel\u001b[49m\u001b[43m(\u001b[49m\u001b[43mmodel\u001b[49m\u001b[43m,\u001b[49m\u001b[43m \u001b[49m\u001b[43mtrainingSet\u001b[49m\u001b[43m,\u001b[49m\u001b[43m \u001b[49m\u001b[43mlr\u001b[49m\u001b[43m)\u001b[49m\n\u001b[32m     12\u001b[39m     accuracy = testModel(model, testingSet)\n\u001b[32m     13\u001b[39m     accuracies.append(accuracy)\n",
      "\u001b[36mCell\u001b[39m\u001b[36m \u001b[39m\u001b[32mIn[16]\u001b[39m\u001b[32m, line 8\u001b[39m, in \u001b[36mtrainModel\u001b[39m\u001b[34m(model, trainingSet, learning_rate, epochs)\u001b[39m\n\u001b[32m      6\u001b[39m optimizer.zero_grad()\n\u001b[32m      7\u001b[39m outputs = model(trainingSet[:, :-\u001b[32m1\u001b[39m])\n\u001b[32m----> \u001b[39m\u001b[32m8\u001b[39m loss = \u001b[43mcriteria\u001b[49m\u001b[43m(\u001b[49m\u001b[43moutputs\u001b[49m\u001b[43m,\u001b[49m\u001b[43m \u001b[49m\u001b[43mtrainingSet\u001b[49m\u001b[43m[\u001b[49m\u001b[43m:\u001b[49m\u001b[43m,\u001b[49m\u001b[43m \u001b[49m\u001b[43m-\u001b[49m\u001b[32;43m1\u001b[39;49m\u001b[43m]\u001b[49m\u001b[43m.\u001b[49m\u001b[43mlong\u001b[49m\u001b[43m(\u001b[49m\u001b[43m)\u001b[49m\u001b[43m)\u001b[49m\n\u001b[32m      9\u001b[39m loss.backward()\n\u001b[32m     10\u001b[39m optimizer.step()\n",
      "\u001b[36mFile \u001b[39m\u001b[32m~\\AppData\\Roaming\\Python\\Python313\\site-packages\\torch\\nn\\modules\\module.py:1773\u001b[39m, in \u001b[36mModule._wrapped_call_impl\u001b[39m\u001b[34m(self, *args, **kwargs)\u001b[39m\n\u001b[32m   1771\u001b[39m     \u001b[38;5;28;01mreturn\u001b[39;00m \u001b[38;5;28mself\u001b[39m._compiled_call_impl(*args, **kwargs)  \u001b[38;5;66;03m# type: ignore[misc]\u001b[39;00m\n\u001b[32m   1772\u001b[39m \u001b[38;5;28;01melse\u001b[39;00m:\n\u001b[32m-> \u001b[39m\u001b[32m1773\u001b[39m     \u001b[38;5;28;01mreturn\u001b[39;00m \u001b[38;5;28;43mself\u001b[39;49m\u001b[43m.\u001b[49m\u001b[43m_call_impl\u001b[49m\u001b[43m(\u001b[49m\u001b[43m*\u001b[49m\u001b[43margs\u001b[49m\u001b[43m,\u001b[49m\u001b[43m \u001b[49m\u001b[43m*\u001b[49m\u001b[43m*\u001b[49m\u001b[43mkwargs\u001b[49m\u001b[43m)\u001b[49m\n",
      "\u001b[36mFile \u001b[39m\u001b[32m~\\AppData\\Roaming\\Python\\Python313\\site-packages\\torch\\nn\\modules\\module.py:1784\u001b[39m, in \u001b[36mModule._call_impl\u001b[39m\u001b[34m(self, *args, **kwargs)\u001b[39m\n\u001b[32m   1779\u001b[39m \u001b[38;5;66;03m# If we don't have any hooks, we want to skip the rest of the logic in\u001b[39;00m\n\u001b[32m   1780\u001b[39m \u001b[38;5;66;03m# this function, and just call forward.\u001b[39;00m\n\u001b[32m   1781\u001b[39m \u001b[38;5;28;01mif\u001b[39;00m \u001b[38;5;129;01mnot\u001b[39;00m (\u001b[38;5;28mself\u001b[39m._backward_hooks \u001b[38;5;129;01mor\u001b[39;00m \u001b[38;5;28mself\u001b[39m._backward_pre_hooks \u001b[38;5;129;01mor\u001b[39;00m \u001b[38;5;28mself\u001b[39m._forward_hooks \u001b[38;5;129;01mor\u001b[39;00m \u001b[38;5;28mself\u001b[39m._forward_pre_hooks\n\u001b[32m   1782\u001b[39m         \u001b[38;5;129;01mor\u001b[39;00m _global_backward_pre_hooks \u001b[38;5;129;01mor\u001b[39;00m _global_backward_hooks\n\u001b[32m   1783\u001b[39m         \u001b[38;5;129;01mor\u001b[39;00m _global_forward_hooks \u001b[38;5;129;01mor\u001b[39;00m _global_forward_pre_hooks):\n\u001b[32m-> \u001b[39m\u001b[32m1784\u001b[39m     \u001b[38;5;28;01mreturn\u001b[39;00m \u001b[43mforward_call\u001b[49m\u001b[43m(\u001b[49m\u001b[43m*\u001b[49m\u001b[43margs\u001b[49m\u001b[43m,\u001b[49m\u001b[43m \u001b[49m\u001b[43m*\u001b[49m\u001b[43m*\u001b[49m\u001b[43mkwargs\u001b[49m\u001b[43m)\u001b[49m\n\u001b[32m   1786\u001b[39m result = \u001b[38;5;28;01mNone\u001b[39;00m\n\u001b[32m   1787\u001b[39m called_always_called_hooks = \u001b[38;5;28mset\u001b[39m()\n",
      "\u001b[36mFile \u001b[39m\u001b[32m~\\AppData\\Roaming\\Python\\Python313\\site-packages\\torch\\nn\\modules\\loss.py:253\u001b[39m, in \u001b[36mNLLLoss.forward\u001b[39m\u001b[34m(self, input, target)\u001b[39m\n\u001b[32m    252\u001b[39m \u001b[38;5;28;01mdef\u001b[39;00m\u001b[38;5;250m \u001b[39m\u001b[34mforward\u001b[39m(\u001b[38;5;28mself\u001b[39m, \u001b[38;5;28minput\u001b[39m: Tensor, target: Tensor) -> Tensor:\n\u001b[32m--> \u001b[39m\u001b[32m253\u001b[39m     \u001b[38;5;28;01mreturn\u001b[39;00m \u001b[43mF\u001b[49m\u001b[43m.\u001b[49m\u001b[43mnll_loss\u001b[49m\u001b[43m(\u001b[49m\n\u001b[32m    254\u001b[39m \u001b[43m        \u001b[49m\u001b[38;5;28;43minput\u001b[39;49m\u001b[43m,\u001b[49m\n\u001b[32m    255\u001b[39m \u001b[43m        \u001b[49m\u001b[43mtarget\u001b[49m\u001b[43m,\u001b[49m\n\u001b[32m    256\u001b[39m \u001b[43m        \u001b[49m\u001b[43mweight\u001b[49m\u001b[43m=\u001b[49m\u001b[38;5;28;43mself\u001b[39;49m\u001b[43m.\u001b[49m\u001b[43mweight\u001b[49m\u001b[43m,\u001b[49m\n\u001b[32m    257\u001b[39m \u001b[43m        \u001b[49m\u001b[43mignore_index\u001b[49m\u001b[43m=\u001b[49m\u001b[38;5;28;43mself\u001b[39;49m\u001b[43m.\u001b[49m\u001b[43mignore_index\u001b[49m\u001b[43m,\u001b[49m\n\u001b[32m    258\u001b[39m \u001b[43m        \u001b[49m\u001b[43mreduction\u001b[49m\u001b[43m=\u001b[49m\u001b[38;5;28;43mself\u001b[39;49m\u001b[43m.\u001b[49m\u001b[43mreduction\u001b[49m\u001b[43m,\u001b[49m\n\u001b[32m    259\u001b[39m \u001b[43m    \u001b[49m\u001b[43m)\u001b[49m\n",
      "\u001b[36mFile \u001b[39m\u001b[32m~\\AppData\\Roaming\\Python\\Python313\\site-packages\\torch\\nn\\functional.py:3147\u001b[39m, in \u001b[36mnll_loss\u001b[39m\u001b[34m(input, target, weight, size_average, ignore_index, reduce, reduction)\u001b[39m\n\u001b[32m   3145\u001b[39m \u001b[38;5;28;01mif\u001b[39;00m size_average \u001b[38;5;129;01mis\u001b[39;00m \u001b[38;5;129;01mnot\u001b[39;00m \u001b[38;5;28;01mNone\u001b[39;00m \u001b[38;5;129;01mor\u001b[39;00m reduce \u001b[38;5;129;01mis\u001b[39;00m \u001b[38;5;129;01mnot\u001b[39;00m \u001b[38;5;28;01mNone\u001b[39;00m:\n\u001b[32m   3146\u001b[39m     reduction = _Reduction.legacy_get_string(size_average, reduce)\n\u001b[32m-> \u001b[39m\u001b[32m3147\u001b[39m \u001b[38;5;28;01mreturn\u001b[39;00m \u001b[43mtorch\u001b[49m\u001b[43m.\u001b[49m\u001b[43m_C\u001b[49m\u001b[43m.\u001b[49m\u001b[43m_nn\u001b[49m\u001b[43m.\u001b[49m\u001b[43mnll_loss_nd\u001b[49m\u001b[43m(\u001b[49m\n\u001b[32m   3148\u001b[39m \u001b[43m    \u001b[49m\u001b[38;5;28;43minput\u001b[39;49m\u001b[43m,\u001b[49m\u001b[43m \u001b[49m\u001b[43mtarget\u001b[49m\u001b[43m,\u001b[49m\u001b[43m \u001b[49m\u001b[43mweight\u001b[49m\u001b[43m,\u001b[49m\u001b[43m \u001b[49m\u001b[43m_Reduction\u001b[49m\u001b[43m.\u001b[49m\u001b[43mget_enum\u001b[49m\u001b[43m(\u001b[49m\u001b[43mreduction\u001b[49m\u001b[43m)\u001b[49m\u001b[43m,\u001b[49m\u001b[43m \u001b[49m\u001b[43mignore_index\u001b[49m\n\u001b[32m   3149\u001b[39m \u001b[43m\u001b[49m\u001b[43m)\u001b[49m\n",
      "\u001b[31mIndexError\u001b[39m: Target 10 is out of bounds."
     ]
    }
   ],
   "source": [
    "input_size = trainingSet.shape[1] - 1\n",
    "hidden1_size = 10\n",
    "hidden2_size = 6\n",
    "output_size = len(torch.unique(trainingSet[:, -1]))\n",
    "\n",
    "learning_rate = [0.001, 0.01, 0.1]\n",
    "accuracies = []\n",
    "\n",
    "for lr in learning_rate:\n",
    "    model = neuralNet(input_size, hidden1_size, hidden2_size, output_size)\n",
    "    trainModel(model, trainingSet, lr)\n",
    "    accuracy = testModel(model, testingSet)\n",
    "    accuracies.append(accuracy)\n",
    "\n",
    "plt.plot(learning_rate, accuracies, marker='o')\n",
    "plt.title('Effect of Learning Rate on Accuracy')\n",
    "plt.xlabel('Learning Rate')\n",
    "plt.ylabel('Accuracy (%)')\n",
    "plt.xscale('log')\n",
    "plt.show()"
   ]
  },
  {
   "cell_type": "code",
   "execution_count": null,
   "id": "fe2313b2",
   "metadata": {},
   "outputs": [],
   "source": [
    "hidden1_values = [5, 10, 20]\n",
    "hidden2 = 6\n",
    "learning_rate = 0.01\n",
    "accuracies = []\n",
    "\n",
    "for h1 in hidden1_values:\n",
    "    model = neuralNet(input_size, h1, hidden2, output_size)\n",
    "    trainModel(model, trainingSet, learning_rate)\n",
    "    accuracy = testModel(model, testingSet)\n",
    "    accuracies.append(accuracy)\n",
    "\n",
    "plt.plot(hidden1_values, accuracies, marker='o')\n",
    "plt.title('Effect of Hidden Layer 1 Size on Accuracy')\n",
    "plt.xlabel('Hidden Layer 1 Size')\n",
    "plt.ylabel('Accuracy (%)')\n",
    "plt.show()"
   ]
  },
  {
   "cell_type": "code",
   "execution_count": null,
   "id": "ccb8feae",
   "metadata": {},
   "outputs": [],
   "source": [
    "hidden2_values = [3, 6, 12]\n",
    "hidden1 = 10\n",
    "learning_rate = 0.01\n",
    "accuracies = []\n",
    "\n",
    "for h2 in hidden2_values:\n",
    "    model = neuralNet(input_size, hidden1, h2, output_size)\n",
    "    trainModel(model, trainingSet, learning_rate)\n",
    "    accuracy = testModel(model, testingSet)\n",
    "    accuracies.append(accuracy)\n",
    "\n",
    "plt.plot(hidden2_values, accuracies, marker='o')\n",
    "plt.title('Effect of Hidden Layer 2 Size on Accuracy')\n",
    "plt.xlabel('Hidden Layer 2 Size')\n",
    "plt.ylabel('Accuracy (%)')\n",
    "plt.show()"
   ]
  }
 ],
 "metadata": {
  "kernelspec": {
   "display_name": "pytorch_env",
   "language": "python",
   "name": "python3"
  },
  "language_info": {
   "codemirror_mode": {
    "name": "ipython",
    "version": 3
   },
   "file_extension": ".py",
   "mimetype": "text/x-python",
   "name": "python",
   "nbconvert_exporter": "python",
   "pygments_lexer": "ipython3",
   "version": "3.13.7"
  }
 },
 "nbformat": 4,
 "nbformat_minor": 5
}
